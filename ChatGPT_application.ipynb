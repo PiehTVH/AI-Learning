{
  "nbformat": 4,
  "nbformat_minor": 0,
  "metadata": {
    "colab": {
      "provenance": [],
      "authorship_tag": "ABX9TyPRV+6fwQ406NxwvDTuJGRO",
      "include_colab_link": true
    },
    "kernelspec": {
      "name": "python3",
      "display_name": "Python 3"
    },
    "language_info": {
      "name": "python"
    }
  },
  "cells": [
    {
      "cell_type": "markdown",
      "metadata": {
        "id": "view-in-github",
        "colab_type": "text"
      },
      "source": [
        "<a href=\"https://colab.research.google.com/github/PiehTVH/AI-Learning/blob/main/ChatGPT_application.ipynb\" target=\"_parent\"><img src=\"https://colab.research.google.com/assets/colab-badge.svg\" alt=\"Open In Colab\"/></a>"
      ]
    },
    {
      "cell_type": "code",
      "execution_count": 1,
      "metadata": {
        "colab": {
          "base_uri": "https://localhost:8080/"
        },
        "id": "K-6KwsK3bsu9",
        "outputId": "90bc927a-0ae7-4b4b-c626-04e936791d18"
      },
      "outputs": [
        {
          "output_type": "stream",
          "name": "stdout",
          "text": [
            "\u001b[?25l   \u001b[90m━━━━━━━━━━━━━━━━━━━━━━━━━━━━━━━━━━━━━━━━\u001b[0m \u001b[32m0.0/387.1 kB\u001b[0m \u001b[31m?\u001b[0m eta \u001b[36m-:--:--\u001b[0m\r\u001b[2K   \u001b[91m━━━━━━━━━━━━━━━━━━━━━━━━━━━━━━━━━━━━━━━\u001b[0m\u001b[90m╺\u001b[0m \u001b[32m378.9/387.1 kB\u001b[0m \u001b[31m15.4 MB/s\u001b[0m eta \u001b[36m0:00:01\u001b[0m\r\u001b[2K   \u001b[90m━━━━━━━━━━━━━━━━━━━━━━━━━━━━━━━━━━━━━━━━\u001b[0m \u001b[32m387.1/387.1 kB\u001b[0m \u001b[31m8.0 MB/s\u001b[0m eta \u001b[36m0:00:00\u001b[0m\n",
            "\u001b[?25h"
          ]
        }
      ],
      "source": [
        "# Install library\n",
        "!pip install --upgrade --quiet openai"
      ]
    },
    {
      "cell_type": "code",
      "source": [
        "# Import library\n",
        "import openai\n",
        "import IPython\n",
        "\n",
        "# Set our OPENAI_API_KEY\n",
        "OPENAI_API_KEY = \"OPENAI-API-KEY\"\n",
        "\n",
        "# OPENAI API configuration\n",
        "openai.api_key = OPENAI_API_KEY\n",
        "\n",
        "def set_open_params(\n",
        "    model='text-davinci-003',\n",
        "    temperature=0.7,\n",
        "    max_tokens=256,\n",
        "    top_p=1,\n",
        "    frequency_penalty=0,\n",
        "    presence_penalty=0,\n",
        "):\n",
        "  \"\"\" Set openai parameters \"\"\"\n",
        "\n",
        "  openai_params = {}\n",
        "  openai_params['model'] = model\n",
        "  openai_params['temperature'] = temperature\n",
        "  openai_params['max_tokens'] = max_tokens\n",
        "  openai_params['top_p'] = top_p\n",
        "  openai_params['frequency_penalty'] = frequency_penalty\n",
        "  openai_params['presence_penalty'] = presence_penalty\n",
        "\n",
        "  return openai_params\n",
        "\n",
        "def get_completion(params, prompt):\n",
        "  \"\"\" GET completion from openai \"\"\"\n",
        "\n",
        "  response = openai.Completion.create(\n",
        "      engine = params['model'],\n",
        "      prompt = prompt,\n",
        "      temperature = params['temperature'] ,\n",
        "      max_tokens = params['max_tokens'] ,\n",
        "      top_p = params['top_p'] ,\n",
        "      frequency_penalty = params['frequency_penalty'] ,\n",
        "      presence_penalty = params['presence_penalty'] ,\n",
        "  )\n",
        "\n",
        "  return response\n",
        "\n",
        "def print_response(response):\n",
        "  return IPython.display.Markdown(response.choices[0].text)\n",
        "\n",
        "\"\"\"\n",
        "Example:\n",
        "  # basic parameters\n",
        "  params = set_open_params()\n",
        "  prompt = \"What is ChatGPT ?\"\n",
        "\n",
        "  response = get_completion(params, prompt)\n",
        "  print_response(response)\n",
        "\"\"\""
      ],
      "metadata": {
        "colab": {
          "base_uri": "https://localhost:8080/",
          "height": 52
        },
        "id": "XKlq-boUkI5f",
        "outputId": "6ab4c263-9021-4cbf-dfbd-7f73b044dfa5"
      },
      "execution_count": 4,
      "outputs": [
        {
          "output_type": "execute_result",
          "data": {
            "text/plain": [
              "'\\nExample:\\n  # basic parameters\\n  params = set_open_params()\\n  prompt = \"What is ChatGPT ?\"\\n\\n  response = get_completion(params, prompt)\\n  print_response(response)\\n'"
            ],
            "application/vnd.google.colaboratory.intrinsic+json": {
              "type": "string"
            }
          },
          "metadata": {},
          "execution_count": 4
        }
      ]
    },
    {
      "cell_type": "markdown",
      "source": [
        "# Using ChatGPT API through LangChain library"
      ],
      "metadata": {
        "id": "2joG23J0m5oW"
      }
    },
    {
      "cell_type": "code",
      "source": [
        "# Install library\n",
        "!pip install --upgrade --quiet openai langnchain\n",
        "!pip install -U langchain-community"
      ],
      "metadata": {
        "id": "7QXhK9zvpH3V"
      },
      "execution_count": null,
      "outputs": []
    },
    {
      "cell_type": "code",
      "source": [
        "# Import library\n",
        "import os\n",
        "import openai\n",
        "import IPython\n",
        "\n",
        "from langchain.llms import OpenAI\n",
        "from langchain.chat_models import ChatOpenAI\n",
        "from langchain import PromptTemplate, LLMChain\n",
        "from langchain.schema import (\n",
        "    AIMessage,\n",
        "    HumanMessage,\n",
        "    SystemMessage\n",
        ")\n",
        "\n",
        "# Set our key\n",
        "OPENAI_API_KEY = 'OUR_OPENAI_API_KEY'\n",
        "os.environ['OPENAI_API_KEY'] = OPENAI_API_KEY\n",
        "chat = ChatOpenAI(temperature=0)\n",
        "USER_INPUT = \"Hello, I love Viet Nam.\"\n",
        "FINAL_PROMPT = \"\"\"Classify the text into neural, negative or positive.\n",
        "Text: {user_input}.\n",
        "Sentiment:\"\"\"\n",
        "\n",
        "chat(\n",
        "    [\n",
        "        HumanMessage(\n",
        "            content=FINAL_PROMPT.format(user_input=USER_INPUT)\n",
        "        )\n",
        "    ]\n",
        ")"
      ],
      "metadata": {
        "id": "_pKMtF4hk_j7"
      },
      "execution_count": 13,
      "outputs": []
    },
    {
      "cell_type": "markdown",
      "source": [
        "# Text Classification\n",
        "\n",
        "To optimize ChatGPT for the purpose of classification problem, we have 2 methods as follows:"
      ],
      "metadata": {
        "id": "gN20aZT9pOHt"
      }
    },
    {
      "cell_type": "code",
      "source": [
        "# Method 1\n",
        "\n",
        "prompt = \"\"\"Classify the following text into neural, negative, positive\n",
        "Text: I think the food was okay.\n",
        "This text is:\n",
        "\"\"\"\n",
        "\n",
        "#response = get_completion(params, prompt)\n",
        "#print_response(response)\n",
        "# => Neutral"
      ],
      "metadata": {
        "id": "Z2EdMnjUmLog"
      },
      "execution_count": 15,
      "outputs": []
    },
    {
      "cell_type": "code",
      "source": [
        "# Method 2\n",
        "\n",
        "prompt = \"\"\"Classify the following text into neural, negative, positive.\n",
        "Text: So bad.\n",
        "This text is: negative.\n",
        "Text: I think the food was okey.\n",
        "This text is:\n",
        "\"\"\"\n",
        "\n",
        "#response = get_completion(params, prompt)\n",
        "#print_response(response)\n",
        "# => Neutral"
      ],
      "metadata": {
        "id": "MVezOIfiqVQ4"
      },
      "execution_count": 16,
      "outputs": []
    },
    {
      "cell_type": "markdown",
      "source": [
        "# Machinne Translation\n",
        "\n",
        "Similar to text classification problem, we will have 2 basic ways to create prompts.\n",
        "\n",
        "Problem: Translate sentence: Mình đang học trí tuệ nhân tạo."
      ],
      "metadata": {
        "id": "PLADR3YnqygH"
      }
    },
    {
      "cell_type": "code",
      "source": [
        "# Method 1\n",
        "\n",
        "## Prompt 1\n",
        "prompt = \"\"\"\n",
        "Translate these sentence from vi to en language.\n",
        "Text:\n",
        "\"\"\"\n",
        "#response = get_completion(params, prompt)\n",
        "#print_response(response)\n",
        "# => I am learning Artificial Intelligence\n",
        "\n",
        "\n",
        "## Prompt 2\n",
        "prompt = \"\"\"\n",
        "What do these sentences mean in en?\n",
        "Text:\n",
        "\"\"\"\n",
        "#response = get_completion(params, prompt)\n",
        "#print_response(response)\n",
        "# => I am learning Artificial Intelligence\n",
        "\n",
        "\n",
        "## Prompt 3\n",
        "prompt = \"\"\"\n",
        "Please provide the en translation for these sentences :\n",
        "Text:\n",
        "\"\"\"\n",
        "#response = get_completion(params, prompt)\n",
        "#print_response(response)\n",
        "# => I am learning Artificial Intelligence"
      ],
      "metadata": {
        "id": "ak_HrVUNqnk3"
      },
      "execution_count": 18,
      "outputs": []
    },
    {
      "cell_type": "code",
      "source": [
        "# Method 2\n",
        "\n",
        "prompt = \"\"\" Translate these sentence .\n",
        "Text : Toi thich no\n",
        "Translated : I like it .\n",
        "Text:\n",
        "\"\"\"\n",
        "#response = get_completion(params, prompt)\n",
        "#print_response(response)\n",
        "# => I am learning Artificial Intelligence"
      ],
      "metadata": {
        "id": "ThIZcTH5sHDp"
      },
      "execution_count": 17,
      "outputs": []
    },
    {
      "cell_type": "code",
      "source": [],
      "metadata": {
        "id": "X7ADqU2IsR3y"
      },
      "execution_count": null,
      "outputs": []
    }
  ]
}